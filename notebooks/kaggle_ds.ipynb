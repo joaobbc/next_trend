{
 "cells": [
  {
   "cell_type": "code",
   "execution_count": 2,
   "id": "a39ae00f",
   "metadata": {},
   "outputs": [],
   "source": [
    "# canonical import\n",
    "import pandas as pd"
   ]
  },
  {
   "cell_type": "code",
   "execution_count": 4,
   "id": "b21a3332",
   "metadata": {},
   "outputs": [
    {
     "data": {
      "text/plain": [
       "2        The CEO of NASDAQ pushed to halt trading “to g...\n",
       "6        Hedgefund whales are spreading disinfo saying ...\n",
       "7        Life isn't fair. My mother always told me that...\n",
       "10        I believe right now is one of those rare oppo...\n",
       "12       You guys are champs. GME... who would have tho...\n",
       "                               ...                        \n",
       "50689    Following is the data and the corresponding S&...\n",
       "50690    ZIM Integrated Shipping Services should be at ...\n",
       "50693    **TLDR: ATSG is a fantastic value at its curre...\n",
       "50694    SENS why to buy\\n Skip to end to see summary \\...\n",
       "50695                #Monday, June 21, 2021\\r\\n\\r\\n15:0...\n",
       "Name: body, Length: 23596, dtype: object"
      ]
     },
     "execution_count": 4,
     "metadata": {},
     "output_type": "execute_result"
    }
   ],
   "source": [
    "reddit_df = pd.read_csv('../raw_data/reddit_wsb.csv')\n",
    "reddit_clean = reddit_df.dropna()\n",
    "reddit_clean['body']\n"
   ]
  }
 ],
 "metadata": {
  "kernelspec": {
   "display_name": "Python 3 (ipykernel)",
   "language": "python",
   "name": "python3"
  },
  "language_info": {
   "codemirror_mode": {
    "name": "ipython",
    "version": 3
   },
   "file_extension": ".py",
   "mimetype": "text/x-python",
   "name": "python",
   "nbconvert_exporter": "python",
   "pygments_lexer": "ipython3",
   "version": "3.8.6"
  }
 },
 "nbformat": 4,
 "nbformat_minor": 5
}
