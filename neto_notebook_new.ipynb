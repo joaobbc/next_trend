{
 "cells": [
  {
   "cell_type": "code",
   "execution_count": 1,
   "id": "a39ae00f",
   "metadata": {
    "id": "a39ae00f"
   },
   "outputs": [],
   "source": [
    "# canonical import\n",
    "import pandas as pd"
   ]
  },
  {
   "cell_type": "markdown",
   "id": "9ea7b3e7",
   "metadata": {
    "id": "9ea7b3e7"
   },
   "source": [
    "# importing data and dropping na"
   ]
  },
  {
   "cell_type": "code",
   "execution_count": 3,
   "id": "b21a3332",
   "metadata": {
    "id": "b21a3332"
   },
   "outputs": [],
   "source": [
    "reddit_df = pd.read_csv('next_trend/raw_data/reddit_wsb.csv')\n",
    "reddit_df = reddit_df.dropna()"
   ]
  },
  {
   "cell_type": "code",
   "execution_count": 4,
   "id": "a68db11e",
   "metadata": {
    "id": "a68db11e"
   },
   "outputs": [],
   "source": [
    "def include_ticker(string):\n",
    "    ticker_list = ['GME', 'TSLA']\n",
    "    for ticker in ticker_list:\n",
    "        if ticker in string:\n",
    "            return ticker"
   ]
  },
  {
   "cell_type": "markdown",
   "id": "7f5d7ced",
   "metadata": {
    "id": "7f5d7ced"
   },
   "source": [
    "# Marking the DF"
   ]
  },
  {
   "cell_type": "markdown",
   "id": "3f693b31",
   "metadata": {
    "id": "3f693b31"
   },
   "source": [
    "### getting the stock"
   ]
  },
  {
   "cell_type": "code",
   "execution_count": 5,
   "id": "67a9c692",
   "metadata": {
    "colab": {
     "base_uri": "https://localhost:8080/",
     "height": 945
    },
    "id": "67a9c692",
    "outputId": "cb43b46b-4709-4c00-d1a6-41b6bd111245"
   },
   "outputs": [
    {
     "data": {
      "text/html": [
       "<div>\n",
       "<style scoped>\n",
       "    .dataframe tbody tr th:only-of-type {\n",
       "        vertical-align: middle;\n",
       "    }\n",
       "\n",
       "    .dataframe tbody tr th {\n",
       "        vertical-align: top;\n",
       "    }\n",
       "\n",
       "    .dataframe thead th {\n",
       "        text-align: right;\n",
       "    }\n",
       "</style>\n",
       "<table border=\"1\" class=\"dataframe\">\n",
       "  <thead>\n",
       "    <tr style=\"text-align: right;\">\n",
       "      <th></th>\n",
       "      <th>title</th>\n",
       "      <th>score</th>\n",
       "      <th>id</th>\n",
       "      <th>url</th>\n",
       "      <th>comms_num</th>\n",
       "      <th>created</th>\n",
       "      <th>body</th>\n",
       "      <th>timestamp</th>\n",
       "      <th>stock_body</th>\n",
       "      <th>stock_title</th>\n",
       "    </tr>\n",
       "  </thead>\n",
       "  <tbody>\n",
       "    <tr>\n",
       "      <th>2</th>\n",
       "      <td>Exit the system</td>\n",
       "      <td>0</td>\n",
       "      <td>l6uhhn</td>\n",
       "      <td>https://www.reddit.com/r/wallstreetbets/commen...</td>\n",
       "      <td>47</td>\n",
       "      <td>1.611862e+09</td>\n",
       "      <td>The CEO of NASDAQ pushed to halt trading “to g...</td>\n",
       "      <td>2021-01-28 21:30:35</td>\n",
       "      <td>GME</td>\n",
       "      <td>None</td>\n",
       "    </tr>\n",
       "    <tr>\n",
       "      <th>6</th>\n",
       "      <td>SHORT STOCK DOESN'T HAVE AN EXPIRATION DATE</td>\n",
       "      <td>317</td>\n",
       "      <td>l6uf6d</td>\n",
       "      <td>https://www.reddit.com/r/wallstreetbets/commen...</td>\n",
       "      <td>53</td>\n",
       "      <td>1.611862e+09</td>\n",
       "      <td>Hedgefund whales are spreading disinfo saying ...</td>\n",
       "      <td>2021-01-28 21:26:27</td>\n",
       "      <td>GME</td>\n",
       "      <td>None</td>\n",
       "    </tr>\n",
       "    <tr>\n",
       "      <th>7</th>\n",
       "      <td>THIS IS THE MOMENT</td>\n",
       "      <td>405</td>\n",
       "      <td>l6ub9l</td>\n",
       "      <td>https://www.reddit.com/r/wallstreetbets/commen...</td>\n",
       "      <td>178</td>\n",
       "      <td>1.611862e+09</td>\n",
       "      <td>Life isn't fair. My mother always told me that...</td>\n",
       "      <td>2021-01-28 21:19:31</td>\n",
       "      <td>GME</td>\n",
       "      <td>None</td>\n",
       "    </tr>\n",
       "    <tr>\n",
       "      <th>10</th>\n",
       "      <td>We need to keep this movement going, we all ca...</td>\n",
       "      <td>222</td>\n",
       "      <td>l6uao1</td>\n",
       "      <td>https://www.reddit.com/r/wallstreetbets/commen...</td>\n",
       "      <td>70</td>\n",
       "      <td>1.611862e+09</td>\n",
       "      <td>I believe right now is one of those rare oppo...</td>\n",
       "      <td>2021-01-28 21:18:25</td>\n",
       "      <td>GME</td>\n",
       "      <td>None</td>\n",
       "    </tr>\n",
       "    <tr>\n",
       "      <th>12</th>\n",
       "      <td>Once you're done with GME - $AG and $SLV, the ...</td>\n",
       "      <td>0</td>\n",
       "      <td>l6u9wu</td>\n",
       "      <td>https://www.reddit.com/r/wallstreetbets/commen...</td>\n",
       "      <td>16</td>\n",
       "      <td>1.611861e+09</td>\n",
       "      <td>You guys are champs. GME... who would have tho...</td>\n",
       "      <td>2021-01-28 21:17:10</td>\n",
       "      <td>GME</td>\n",
       "      <td>GME</td>\n",
       "    </tr>\n",
       "    <tr>\n",
       "      <th>...</th>\n",
       "      <td>...</td>\n",
       "      <td>...</td>\n",
       "      <td>...</td>\n",
       "      <td>...</td>\n",
       "      <td>...</td>\n",
       "      <td>...</td>\n",
       "      <td>...</td>\n",
       "      <td>...</td>\n",
       "      <td>...</td>\n",
       "      <td>...</td>\n",
       "    </tr>\n",
       "    <tr>\n",
       "      <th>50689</th>\n",
       "      <td>Weird S&amp;P 500 Correlation to Euro Cup &amp; World Cup</td>\n",
       "      <td>0</td>\n",
       "      <td>o4qwae</td>\n",
       "      <td>https://www.reddit.com/r/wallstreetbets/commen...</td>\n",
       "      <td>14</td>\n",
       "      <td>1.624295e+09</td>\n",
       "      <td>Following is the data and the corresponding S&amp;...</td>\n",
       "      <td>2021-06-21 19:56:54</td>\n",
       "      <td>None</td>\n",
       "      <td>None</td>\n",
       "    </tr>\n",
       "    <tr>\n",
       "      <th>50690</th>\n",
       "      <td>I $ZIM to the moon</td>\n",
       "      <td>0</td>\n",
       "      <td>o4qu51</td>\n",
       "      <td>https://www.reddit.com/r/wallstreetbets/commen...</td>\n",
       "      <td>10</td>\n",
       "      <td>1.624294e+09</td>\n",
       "      <td>ZIM Integrated Shipping Services should be at ...</td>\n",
       "      <td>2021-06-21 19:52:28</td>\n",
       "      <td>None</td>\n",
       "      <td>None</td>\n",
       "    </tr>\n",
       "    <tr>\n",
       "      <th>50693</th>\n",
       "      <td>Atypical DD for WSB: ATSG for a smooth ascent</td>\n",
       "      <td>29</td>\n",
       "      <td>o4mcu4</td>\n",
       "      <td>https://www.reddit.com/r/wallstreetbets/commen...</td>\n",
       "      <td>28</td>\n",
       "      <td>1.624276e+09</td>\n",
       "      <td>**TLDR: ATSG is a fantastic value at its curre...</td>\n",
       "      <td>2021-06-21 14:48:18</td>\n",
       "      <td>None</td>\n",
       "      <td>None</td>\n",
       "    </tr>\n",
       "    <tr>\n",
       "      <th>50694</th>\n",
       "      <td>SENS DD</td>\n",
       "      <td>166</td>\n",
       "      <td>o4m5ju</td>\n",
       "      <td>https://www.reddit.com/r/wallstreetbets/commen...</td>\n",
       "      <td>63</td>\n",
       "      <td>1.624275e+09</td>\n",
       "      <td>SENS why to buy\\n Skip to end to see summary \\...</td>\n",
       "      <td>2021-06-21 14:36:26</td>\n",
       "      <td>GME</td>\n",
       "      <td>None</td>\n",
       "    </tr>\n",
       "    <tr>\n",
       "      <th>50695</th>\n",
       "      <td>Market Events June 21 - 25</td>\n",
       "      <td>32</td>\n",
       "      <td>o4lw31</td>\n",
       "      <td>https://www.reddit.com/r/wallstreetbets/commen...</td>\n",
       "      <td>11</td>\n",
       "      <td>1.624274e+09</td>\n",
       "      <td>#Monday, June 21, 2021\\r\\n\\r\\n15:0...</td>\n",
       "      <td>2021-06-21 14:21:13</td>\n",
       "      <td>None</td>\n",
       "      <td>None</td>\n",
       "    </tr>\n",
       "  </tbody>\n",
       "</table>\n",
       "<p>23596 rows × 10 columns</p>\n",
       "</div>"
      ],
      "text/plain": [
       "                                                   title  score      id  \\\n",
       "2                                        Exit the system      0  l6uhhn   \n",
       "6            SHORT STOCK DOESN'T HAVE AN EXPIRATION DATE    317  l6uf6d   \n",
       "7                                     THIS IS THE MOMENT    405  l6ub9l   \n",
       "10     We need to keep this movement going, we all ca...    222  l6uao1   \n",
       "12     Once you're done with GME - $AG and $SLV, the ...      0  l6u9wu   \n",
       "...                                                  ...    ...     ...   \n",
       "50689  Weird S&P 500 Correlation to Euro Cup & World Cup      0  o4qwae   \n",
       "50690                                 I $ZIM to the moon      0  o4qu51   \n",
       "50693      Atypical DD for WSB: ATSG for a smooth ascent     29  o4mcu4   \n",
       "50694                                            SENS DD    166  o4m5ju   \n",
       "50695                         Market Events June 21 - 25     32  o4lw31   \n",
       "\n",
       "                                                     url  comms_num  \\\n",
       "2      https://www.reddit.com/r/wallstreetbets/commen...         47   \n",
       "6      https://www.reddit.com/r/wallstreetbets/commen...         53   \n",
       "7      https://www.reddit.com/r/wallstreetbets/commen...        178   \n",
       "10     https://www.reddit.com/r/wallstreetbets/commen...         70   \n",
       "12     https://www.reddit.com/r/wallstreetbets/commen...         16   \n",
       "...                                                  ...        ...   \n",
       "50689  https://www.reddit.com/r/wallstreetbets/commen...         14   \n",
       "50690  https://www.reddit.com/r/wallstreetbets/commen...         10   \n",
       "50693  https://www.reddit.com/r/wallstreetbets/commen...         28   \n",
       "50694  https://www.reddit.com/r/wallstreetbets/commen...         63   \n",
       "50695  https://www.reddit.com/r/wallstreetbets/commen...         11   \n",
       "\n",
       "            created                                               body  \\\n",
       "2      1.611862e+09  The CEO of NASDAQ pushed to halt trading “to g...   \n",
       "6      1.611862e+09  Hedgefund whales are spreading disinfo saying ...   \n",
       "7      1.611862e+09  Life isn't fair. My mother always told me that...   \n",
       "10     1.611862e+09   I believe right now is one of those rare oppo...   \n",
       "12     1.611861e+09  You guys are champs. GME... who would have tho...   \n",
       "...             ...                                                ...   \n",
       "50689  1.624295e+09  Following is the data and the corresponding S&...   \n",
       "50690  1.624294e+09  ZIM Integrated Shipping Services should be at ...   \n",
       "50693  1.624276e+09  **TLDR: ATSG is a fantastic value at its curre...   \n",
       "50694  1.624275e+09  SENS why to buy\\n Skip to end to see summary \\...   \n",
       "50695  1.624274e+09              #Monday, June 21, 2021\\r\\n\\r\\n15:0...   \n",
       "\n",
       "                 timestamp stock_body stock_title  \n",
       "2      2021-01-28 21:30:35        GME        None  \n",
       "6      2021-01-28 21:26:27        GME        None  \n",
       "7      2021-01-28 21:19:31        GME        None  \n",
       "10     2021-01-28 21:18:25        GME        None  \n",
       "12     2021-01-28 21:17:10        GME         GME  \n",
       "...                    ...        ...         ...  \n",
       "50689  2021-06-21 19:56:54       None        None  \n",
       "50690  2021-06-21 19:52:28       None        None  \n",
       "50693  2021-06-21 14:48:18       None        None  \n",
       "50694  2021-06-21 14:36:26        GME        None  \n",
       "50695  2021-06-21 14:21:13       None        None  \n",
       "\n",
       "[23596 rows x 10 columns]"
      ]
     },
     "execution_count": 5,
     "metadata": {},
     "output_type": "execute_result"
    }
   ],
   "source": [
    "reddit_df['stock_body'] = reddit_df['body'].map(lambda x: include_ticker(x))\n",
    "reddit_df['stock_title'] = reddit_df['title'].map(lambda x: include_ticker(x))\n",
    "\n",
    "reddit_df"
   ]
  },
  {
   "cell_type": "code",
   "execution_count": 6,
   "id": "08b4fee4",
   "metadata": {
    "id": "08b4fee4"
   },
   "outputs": [],
   "source": [
    "def body_size(x):\n",
    "    return len(x.split())"
   ]
  },
  {
   "cell_type": "code",
   "execution_count": 7,
   "id": "1c2984bd",
   "metadata": {
    "colab": {
     "base_uri": "https://localhost:8080/",
     "height": 1000
    },
    "id": "1c2984bd",
    "outputId": "d94950a0-b855-4f41-fd17-d22dac76ffd5"
   },
   "outputs": [
    {
     "data": {
      "text/html": [
       "<div>\n",
       "<style scoped>\n",
       "    .dataframe tbody tr th:only-of-type {\n",
       "        vertical-align: middle;\n",
       "    }\n",
       "\n",
       "    .dataframe tbody tr th {\n",
       "        vertical-align: top;\n",
       "    }\n",
       "\n",
       "    .dataframe thead th {\n",
       "        text-align: right;\n",
       "    }\n",
       "</style>\n",
       "<table border=\"1\" class=\"dataframe\">\n",
       "  <thead>\n",
       "    <tr style=\"text-align: right;\">\n",
       "      <th></th>\n",
       "      <th>index</th>\n",
       "      <th>title</th>\n",
       "      <th>score</th>\n",
       "      <th>id</th>\n",
       "      <th>url</th>\n",
       "      <th>comms_num</th>\n",
       "      <th>created</th>\n",
       "      <th>body</th>\n",
       "      <th>timestamp</th>\n",
       "      <th>stock_body</th>\n",
       "      <th>stock_title</th>\n",
       "      <th>body_size</th>\n",
       "    </tr>\n",
       "  </thead>\n",
       "  <tbody>\n",
       "    <tr>\n",
       "      <th>0</th>\n",
       "      <td>2</td>\n",
       "      <td>Exit the system</td>\n",
       "      <td>0</td>\n",
       "      <td>l6uhhn</td>\n",
       "      <td>https://www.reddit.com/r/wallstreetbets/commen...</td>\n",
       "      <td>47</td>\n",
       "      <td>1.611862e+09</td>\n",
       "      <td>The CEO of NASDAQ pushed to halt trading “to g...</td>\n",
       "      <td>2021-01-28 21:30:35</td>\n",
       "      <td>GME</td>\n",
       "      <td>None</td>\n",
       "      <td>226</td>\n",
       "    </tr>\n",
       "    <tr>\n",
       "      <th>1</th>\n",
       "      <td>6</td>\n",
       "      <td>SHORT STOCK DOESN'T HAVE AN EXPIRATION DATE</td>\n",
       "      <td>317</td>\n",
       "      <td>l6uf6d</td>\n",
       "      <td>https://www.reddit.com/r/wallstreetbets/commen...</td>\n",
       "      <td>53</td>\n",
       "      <td>1.611862e+09</td>\n",
       "      <td>Hedgefund whales are spreading disinfo saying ...</td>\n",
       "      <td>2021-01-28 21:26:27</td>\n",
       "      <td>GME</td>\n",
       "      <td>None</td>\n",
       "      <td>116</td>\n",
       "    </tr>\n",
       "    <tr>\n",
       "      <th>2</th>\n",
       "      <td>7</td>\n",
       "      <td>THIS IS THE MOMENT</td>\n",
       "      <td>405</td>\n",
       "      <td>l6ub9l</td>\n",
       "      <td>https://www.reddit.com/r/wallstreetbets/commen...</td>\n",
       "      <td>178</td>\n",
       "      <td>1.611862e+09</td>\n",
       "      <td>Life isn't fair. My mother always told me that...</td>\n",
       "      <td>2021-01-28 21:19:31</td>\n",
       "      <td>GME</td>\n",
       "      <td>None</td>\n",
       "      <td>352</td>\n",
       "    </tr>\n",
       "    <tr>\n",
       "      <th>3</th>\n",
       "      <td>10</td>\n",
       "      <td>We need to keep this movement going, we all ca...</td>\n",
       "      <td>222</td>\n",
       "      <td>l6uao1</td>\n",
       "      <td>https://www.reddit.com/r/wallstreetbets/commen...</td>\n",
       "      <td>70</td>\n",
       "      <td>1.611862e+09</td>\n",
       "      <td>I believe right now is one of those rare oppo...</td>\n",
       "      <td>2021-01-28 21:18:25</td>\n",
       "      <td>GME</td>\n",
       "      <td>None</td>\n",
       "      <td>138</td>\n",
       "    </tr>\n",
       "    <tr>\n",
       "      <th>4</th>\n",
       "      <td>12</td>\n",
       "      <td>Once you're done with GME - $AG and $SLV, the ...</td>\n",
       "      <td>0</td>\n",
       "      <td>l6u9wu</td>\n",
       "      <td>https://www.reddit.com/r/wallstreetbets/commen...</td>\n",
       "      <td>16</td>\n",
       "      <td>1.611861e+09</td>\n",
       "      <td>You guys are champs. GME... who would have tho...</td>\n",
       "      <td>2021-01-28 21:17:10</td>\n",
       "      <td>GME</td>\n",
       "      <td>GME</td>\n",
       "      <td>260</td>\n",
       "    </tr>\n",
       "    <tr>\n",
       "      <th>...</th>\n",
       "      <td>...</td>\n",
       "      <td>...</td>\n",
       "      <td>...</td>\n",
       "      <td>...</td>\n",
       "      <td>...</td>\n",
       "      <td>...</td>\n",
       "      <td>...</td>\n",
       "      <td>...</td>\n",
       "      <td>...</td>\n",
       "      <td>...</td>\n",
       "      <td>...</td>\n",
       "      <td>...</td>\n",
       "    </tr>\n",
       "    <tr>\n",
       "      <th>23591</th>\n",
       "      <td>50689</td>\n",
       "      <td>Weird S&amp;P 500 Correlation to Euro Cup &amp; World Cup</td>\n",
       "      <td>0</td>\n",
       "      <td>o4qwae</td>\n",
       "      <td>https://www.reddit.com/r/wallstreetbets/commen...</td>\n",
       "      <td>14</td>\n",
       "      <td>1.624295e+09</td>\n",
       "      <td>Following is the data and the corresponding S&amp;...</td>\n",
       "      <td>2021-06-21 19:56:54</td>\n",
       "      <td>None</td>\n",
       "      <td>None</td>\n",
       "      <td>222</td>\n",
       "    </tr>\n",
       "    <tr>\n",
       "      <th>23592</th>\n",
       "      <td>50690</td>\n",
       "      <td>I $ZIM to the moon</td>\n",
       "      <td>0</td>\n",
       "      <td>o4qu51</td>\n",
       "      <td>https://www.reddit.com/r/wallstreetbets/commen...</td>\n",
       "      <td>10</td>\n",
       "      <td>1.624294e+09</td>\n",
       "      <td>ZIM Integrated Shipping Services should be at ...</td>\n",
       "      <td>2021-06-21 19:52:28</td>\n",
       "      <td>None</td>\n",
       "      <td>None</td>\n",
       "      <td>173</td>\n",
       "    </tr>\n",
       "    <tr>\n",
       "      <th>23593</th>\n",
       "      <td>50693</td>\n",
       "      <td>Atypical DD for WSB: ATSG for a smooth ascent</td>\n",
       "      <td>29</td>\n",
       "      <td>o4mcu4</td>\n",
       "      <td>https://www.reddit.com/r/wallstreetbets/commen...</td>\n",
       "      <td>28</td>\n",
       "      <td>1.624276e+09</td>\n",
       "      <td>**TLDR: ATSG is a fantastic value at its curre...</td>\n",
       "      <td>2021-06-21 14:48:18</td>\n",
       "      <td>None</td>\n",
       "      <td>None</td>\n",
       "      <td>904</td>\n",
       "    </tr>\n",
       "    <tr>\n",
       "      <th>23594</th>\n",
       "      <td>50694</td>\n",
       "      <td>SENS DD</td>\n",
       "      <td>166</td>\n",
       "      <td>o4m5ju</td>\n",
       "      <td>https://www.reddit.com/r/wallstreetbets/commen...</td>\n",
       "      <td>63</td>\n",
       "      <td>1.624275e+09</td>\n",
       "      <td>SENS why to buy\\n Skip to end to see summary \\...</td>\n",
       "      <td>2021-06-21 14:36:26</td>\n",
       "      <td>GME</td>\n",
       "      <td>None</td>\n",
       "      <td>957</td>\n",
       "    </tr>\n",
       "    <tr>\n",
       "      <th>23595</th>\n",
       "      <td>50695</td>\n",
       "      <td>Market Events June 21 - 25</td>\n",
       "      <td>32</td>\n",
       "      <td>o4lw31</td>\n",
       "      <td>https://www.reddit.com/r/wallstreetbets/commen...</td>\n",
       "      <td>11</td>\n",
       "      <td>1.624274e+09</td>\n",
       "      <td>#Monday, June 21, 2021\\r\\n\\r\\n15:0...</td>\n",
       "      <td>2021-06-21 14:21:13</td>\n",
       "      <td>None</td>\n",
       "      <td>None</td>\n",
       "      <td>325</td>\n",
       "    </tr>\n",
       "  </tbody>\n",
       "</table>\n",
       "<p>23596 rows × 12 columns</p>\n",
       "</div>"
      ],
      "text/plain": [
       "       index                                              title  score  \\\n",
       "0          2                                    Exit the system      0   \n",
       "1          6        SHORT STOCK DOESN'T HAVE AN EXPIRATION DATE    317   \n",
       "2          7                                 THIS IS THE MOMENT    405   \n",
       "3         10  We need to keep this movement going, we all ca...    222   \n",
       "4         12  Once you're done with GME - $AG and $SLV, the ...      0   \n",
       "...      ...                                                ...    ...   \n",
       "23591  50689  Weird S&P 500 Correlation to Euro Cup & World Cup      0   \n",
       "23592  50690                                 I $ZIM to the moon      0   \n",
       "23593  50693      Atypical DD for WSB: ATSG for a smooth ascent     29   \n",
       "23594  50694                                            SENS DD    166   \n",
       "23595  50695                         Market Events June 21 - 25     32   \n",
       "\n",
       "           id                                                url  comms_num  \\\n",
       "0      l6uhhn  https://www.reddit.com/r/wallstreetbets/commen...         47   \n",
       "1      l6uf6d  https://www.reddit.com/r/wallstreetbets/commen...         53   \n",
       "2      l6ub9l  https://www.reddit.com/r/wallstreetbets/commen...        178   \n",
       "3      l6uao1  https://www.reddit.com/r/wallstreetbets/commen...         70   \n",
       "4      l6u9wu  https://www.reddit.com/r/wallstreetbets/commen...         16   \n",
       "...       ...                                                ...        ...   \n",
       "23591  o4qwae  https://www.reddit.com/r/wallstreetbets/commen...         14   \n",
       "23592  o4qu51  https://www.reddit.com/r/wallstreetbets/commen...         10   \n",
       "23593  o4mcu4  https://www.reddit.com/r/wallstreetbets/commen...         28   \n",
       "23594  o4m5ju  https://www.reddit.com/r/wallstreetbets/commen...         63   \n",
       "23595  o4lw31  https://www.reddit.com/r/wallstreetbets/commen...         11   \n",
       "\n",
       "            created                                               body  \\\n",
       "0      1.611862e+09  The CEO of NASDAQ pushed to halt trading “to g...   \n",
       "1      1.611862e+09  Hedgefund whales are spreading disinfo saying ...   \n",
       "2      1.611862e+09  Life isn't fair. My mother always told me that...   \n",
       "3      1.611862e+09   I believe right now is one of those rare oppo...   \n",
       "4      1.611861e+09  You guys are champs. GME... who would have tho...   \n",
       "...             ...                                                ...   \n",
       "23591  1.624295e+09  Following is the data and the corresponding S&...   \n",
       "23592  1.624294e+09  ZIM Integrated Shipping Services should be at ...   \n",
       "23593  1.624276e+09  **TLDR: ATSG is a fantastic value at its curre...   \n",
       "23594  1.624275e+09  SENS why to buy\\n Skip to end to see summary \\...   \n",
       "23595  1.624274e+09              #Monday, June 21, 2021\\r\\n\\r\\n15:0...   \n",
       "\n",
       "                 timestamp stock_body stock_title  body_size  \n",
       "0      2021-01-28 21:30:35        GME        None        226  \n",
       "1      2021-01-28 21:26:27        GME        None        116  \n",
       "2      2021-01-28 21:19:31        GME        None        352  \n",
       "3      2021-01-28 21:18:25        GME        None        138  \n",
       "4      2021-01-28 21:17:10        GME         GME        260  \n",
       "...                    ...        ...         ...        ...  \n",
       "23591  2021-06-21 19:56:54       None        None        222  \n",
       "23592  2021-06-21 19:52:28       None        None        173  \n",
       "23593  2021-06-21 14:48:18       None        None        904  \n",
       "23594  2021-06-21 14:36:26        GME        None        957  \n",
       "23595  2021-06-21 14:21:13       None        None        325  \n",
       "\n",
       "[23596 rows x 12 columns]"
      ]
     },
     "execution_count": 7,
     "metadata": {},
     "output_type": "execute_result"
    }
   ],
   "source": [
    "reddit_df['body_size'] = reddit_df['body'].map(lambda x: body_size(x))\n",
    "reddit_df.reset_index()"
   ]
  },
  {
   "cell_type": "markdown",
   "id": "61c45d0d",
   "metadata": {
    "id": "61c45d0d"
   },
   "source": [
    "### getting month"
   ]
  },
  {
   "cell_type": "markdown",
   "id": "ee7ebbd5",
   "metadata": {
    "id": "ee7ebbd5"
   },
   "source": [
    "### get target data"
   ]
  },
  {
   "cell_type": "code",
   "execution_count": 8,
   "id": "b8f5709b",
   "metadata": {
    "colab": {
     "base_uri": "https://localhost:8080/"
    },
    "id": "b8f5709b",
    "outputId": "4053c3a9-6ef3-4194-87ac-1755d9187534"
   },
   "outputs": [
    {
     "data": {
      "text/plain": [
       "(6840, 11)"
      ]
     },
     "execution_count": 8,
     "metadata": {},
     "output_type": "execute_result"
    }
   ],
   "source": [
    "reddit_df.drop(reddit_df[reddit_df['stock_body'] != \"GME\"].index, inplace=True)\n",
    "reddit_df.shape\n"
   ]
  },
  {
   "cell_type": "code",
   "execution_count": 15,
   "id": "traditional-signature",
   "metadata": {},
   "outputs": [],
   "source": [
    "reddit_df.to_csv('filename.csv') "
   ]
  },
  {
   "cell_type": "markdown",
   "id": "b4908218",
   "metadata": {
    "id": "b4908218"
   },
   "source": [
    "### getting sentimental"
   ]
  },
  {
   "cell_type": "code",
   "execution_count": 9,
   "id": "lVJJ4rtOJrpU",
   "metadata": {
    "colab": {
     "base_uri": "https://localhost:8080/"
    },
    "id": "lVJJ4rtOJrpU",
    "outputId": "bb1282ca-a60f-4699-dd20-b41ec773a4b2"
   },
   "outputs": [
    {
     "name": "stdout",
     "output_type": "stream",
     "text": [
      "Collecting transformers\n",
      "  Using cached transformers-4.8.2-py3-none-any.whl (2.5 MB)\n",
      "Collecting filelock\n",
      "  Using cached filelock-3.0.12-py3-none-any.whl (7.6 kB)\n",
      "Collecting huggingface-hub==0.0.12\n",
      "  Using cached huggingface_hub-0.0.12-py3-none-any.whl (37 kB)\n",
      "Collecting tokenizers<0.11,>=0.10.1\n",
      "  Using cached tokenizers-0.10.3-cp38-cp38-macosx_10_11_x86_64.whl (2.2 MB)\n",
      "Requirement already satisfied: requests in /Users/Tanise/.pyenv/versions/3.8.6/envs/lewagon/lib/python3.8/site-packages (from transformers) (2.25.1)\n",
      "Collecting sacremoses\n",
      "  Using cached sacremoses-0.0.45-py3-none-any.whl (895 kB)\n",
      "Requirement already satisfied: numpy>=1.17 in /Users/Tanise/.pyenv/versions/3.8.6/envs/lewagon/lib/python3.8/site-packages (from transformers) (1.18.5)\n",
      "Requirement already satisfied: pyyaml in /Users/Tanise/.pyenv/versions/3.8.6/envs/lewagon/lib/python3.8/site-packages (from transformers) (5.4.1)\n",
      "Requirement already satisfied: tqdm>=4.27 in /Users/Tanise/.pyenv/versions/3.8.6/envs/lewagon/lib/python3.8/site-packages (from transformers) (4.60.0)\n",
      "Requirement already satisfied: packaging in /Users/Tanise/.pyenv/versions/3.8.6/envs/lewagon/lib/python3.8/site-packages (from transformers) (20.9)\n",
      "Requirement already satisfied: regex!=2019.12.17 in /Users/Tanise/.pyenv/versions/3.8.6/envs/lewagon/lib/python3.8/site-packages (from transformers) (2021.4.4)\n",
      "Requirement already satisfied: typing-extensions in /Users/Tanise/.pyenv/versions/3.8.6/envs/lewagon/lib/python3.8/site-packages (from huggingface-hub==0.0.12->transformers) (3.7.4.3)\n",
      "Requirement already satisfied: pyparsing>=2.0.2 in /Users/Tanise/.pyenv/versions/3.8.6/envs/lewagon/lib/python3.8/site-packages (from packaging->transformers) (2.4.7)\n",
      "Requirement already satisfied: chardet<5,>=3.0.2 in /Users/Tanise/.pyenv/versions/3.8.6/envs/lewagon/lib/python3.8/site-packages (from requests->transformers) (4.0.0)\n",
      "Requirement already satisfied: urllib3<1.27,>=1.21.1 in /Users/Tanise/.pyenv/versions/3.8.6/envs/lewagon/lib/python3.8/site-packages (from requests->transformers) (1.26.3)\n",
      "Requirement already satisfied: certifi>=2017.4.17 in /Users/Tanise/.pyenv/versions/3.8.6/envs/lewagon/lib/python3.8/site-packages (from requests->transformers) (2020.12.5)\n",
      "Requirement already satisfied: idna<3,>=2.5 in /Users/Tanise/.pyenv/versions/3.8.6/envs/lewagon/lib/python3.8/site-packages (from requests->transformers) (2.10)\n",
      "Requirement already satisfied: joblib in /Users/Tanise/.pyenv/versions/3.8.6/envs/lewagon/lib/python3.8/site-packages (from sacremoses->transformers) (1.0.1)\n",
      "Requirement already satisfied: click in /Users/Tanise/.pyenv/versions/3.8.6/envs/lewagon/lib/python3.8/site-packages (from sacremoses->transformers) (7.1.2)\n",
      "Requirement already satisfied: six in /Users/Tanise/.pyenv/versions/3.8.6/envs/lewagon/lib/python3.8/site-packages (from sacremoses->transformers) (1.14.0)\n",
      "Installing collected packages: filelock, tokenizers, sacremoses, huggingface-hub, transformers\n",
      "Successfully installed filelock-3.0.12 huggingface-hub-0.0.12 sacremoses-0.0.45 tokenizers-0.10.3 transformers-4.8.2\n"
     ]
    }
   ],
   "source": [
    "! pip install transformers"
   ]
  },
  {
   "cell_type": "code",
   "execution_count": 10,
   "id": "819a5c82",
   "metadata": {
    "id": "819a5c82"
   },
   "outputs": [],
   "source": [
    "from tensorflow.keras import *\n",
    "\n",
    "from transformers import pipeline\n",
    "#classifier = pipeline(\"zero-shot-classification\")"
   ]
  },
  {
   "cell_type": "code",
   "execution_count": 16,
   "id": "30e6ceca",
   "metadata": {
    "id": "30e6ceca"
   },
   "outputs": [
    {
     "name": "stderr",
     "output_type": "stream",
     "text": [
      "All model checkpoint layers were used when initializing TFRobertaForSequenceClassification.\n",
      "\n",
      "All the layers of TFRobertaForSequenceClassification were initialized from the model checkpoint at siebert/sentiment-roberta-large-english.\n",
      "If your task is similar to the task the model of the checkpoint was trained on, you can already use TFRobertaForSequenceClassification for predictions without further training.\n"
     ]
    }
   ],
   "source": [
    "classifier = pipeline('sentiment-analysis',model=\"siebert/sentiment-roberta-large-english\")\n",
    "def get_sentimental(x):\n",
    "    text_chunk =x[0:500]\n",
    "    sentimental = classifier(text_chunk)[0]['label']\n",
    "    print(sentimental)\n",
    "    return sentimental"
   ]
  },
  {
   "cell_type": "code",
   "execution_count": 12,
   "id": "NPZmqFLMSxsD",
   "metadata": {
    "id": "NPZmqFLMSxsD"
   },
   "outputs": [],
   "source": [
    "reddit_df1=reddit_df[0:10]"
   ]
  },
  {
   "cell_type": "code",
   "execution_count": 13,
   "id": "aHSNJHlTVcyK",
   "metadata": {
    "colab": {
     "base_uri": "https://localhost:8080/"
    },
    "id": "aHSNJHlTVcyK",
    "outputId": "d4f47da9-3b65-46b0-f201-e4bbce997e4f"
   },
   "outputs": [
    {
     "data": {
      "text/plain": [
       "(10, 11)"
      ]
     },
     "execution_count": 13,
     "metadata": {},
     "output_type": "execute_result"
    }
   ],
   "source": [
    "reddit_df1.shape"
   ]
  },
  {
   "cell_type": "code",
   "execution_count": null,
   "id": "e47136f7",
   "metadata": {
    "colab": {
     "base_uri": "https://localhost:8080/",
     "height": 191
    },
    "id": "e47136f7",
    "outputId": "024a6200-9a14-487a-ce15-a97bf8a33775",
    "scrolled": true
   },
   "outputs": [
    {
     "name": "stdout",
     "output_type": "stream",
     "text": [
      "NEGATIVE\n",
      "NEGATIVE\n",
      "POSITIVE\n",
      "POSITIVE\n",
      "POSITIVE\n",
      "NEGATIVE\n",
      "POSITIVE\n",
      "NEGATIVE\n",
      "POSITIVE\n",
      "NEGATIVE\n",
      "NEGATIVE\n",
      "POSITIVE\n",
      "POSITIVE\n",
      "NEGATIVE\n",
      "POSITIVE\n",
      "POSITIVE\n",
      "NEGATIVE\n",
      "NEGATIVE\n",
      "POSITIVE\n",
      "NEGATIVE\n",
      "POSITIVE\n",
      "POSITIVE\n",
      "NEGATIVE\n",
      "POSITIVE\n",
      "POSITIVE\n",
      "NEGATIVE\n",
      "NEGATIVE\n",
      "NEGATIVE\n",
      "POSITIVE\n",
      "NEGATIVE\n",
      "POSITIVE\n",
      "POSITIVE\n",
      "NEGATIVE\n",
      "NEGATIVE\n",
      "POSITIVE\n",
      "POSITIVE\n",
      "POSITIVE\n",
      "POSITIVE\n",
      "POSITIVE\n",
      "NEGATIVE\n",
      "NEGATIVE\n",
      "NEGATIVE\n",
      "POSITIVE\n",
      "POSITIVE\n",
      "NEGATIVE\n",
      "POSITIVE\n",
      "NEGATIVE\n",
      "POSITIVE\n",
      "NEGATIVE\n",
      "NEGATIVE\n",
      "POSITIVE\n",
      "NEGATIVE\n",
      "NEGATIVE\n",
      "POSITIVE\n",
      "NEGATIVE\n",
      "NEGATIVE\n",
      "POSITIVE\n",
      "NEGATIVE\n",
      "POSITIVE\n",
      "NEGATIVE\n",
      "POSITIVE\n",
      "POSITIVE\n",
      "POSITIVE\n",
      "POSITIVE\n",
      "NEGATIVE\n",
      "POSITIVE\n",
      "POSITIVE\n",
      "POSITIVE\n",
      "POSITIVE\n",
      "NEGATIVE\n",
      "NEGATIVE\n",
      "POSITIVE\n",
      "POSITIVE\n",
      "NEGATIVE\n",
      "NEGATIVE\n",
      "POSITIVE\n",
      "POSITIVE\n",
      "NEGATIVE\n",
      "NEGATIVE\n",
      "NEGATIVE\n",
      "NEGATIVE\n",
      "NEGATIVE\n",
      "POSITIVE\n",
      "POSITIVE\n",
      "POSITIVE\n",
      "POSITIVE\n",
      "NEGATIVE\n",
      "NEGATIVE\n",
      "NEGATIVE\n",
      "POSITIVE\n",
      "POSITIVE\n",
      "NEGATIVE\n",
      "NEGATIVE\n",
      "POSITIVE\n",
      "POSITIVE\n",
      "NEGATIVE\n",
      "NEGATIVE\n",
      "NEGATIVE\n",
      "POSITIVE\n",
      "NEGATIVE\n",
      "POSITIVE\n",
      "NEGATIVE\n",
      "POSITIVE\n",
      "POSITIVE\n",
      "NEGATIVE\n",
      "NEGATIVE\n",
      "POSITIVE\n",
      "POSITIVE\n",
      "POSITIVE\n",
      "POSITIVE\n",
      "NEGATIVE\n",
      "POSITIVE\n",
      "NEGATIVE\n",
      "POSITIVE\n",
      "POSITIVE\n",
      "POSITIVE\n",
      "NEGATIVE\n",
      "POSITIVE\n",
      "POSITIVE\n",
      "NEGATIVE\n",
      "NEGATIVE\n",
      "NEGATIVE\n",
      "NEGATIVE\n",
      "POSITIVE\n",
      "NEGATIVE\n",
      "NEGATIVE\n",
      "POSITIVE\n",
      "POSITIVE\n",
      "POSITIVE\n",
      "POSITIVE\n",
      "NEGATIVE\n",
      "POSITIVE\n",
      "POSITIVE\n",
      "POSITIVE\n",
      "NEGATIVE\n",
      "NEGATIVE\n",
      "NEGATIVE\n",
      "POSITIVE\n",
      "NEGATIVE\n",
      "NEGATIVE\n",
      "NEGATIVE\n",
      "NEGATIVE\n",
      "POSITIVE\n",
      "NEGATIVE\n",
      "NEGATIVE\n",
      "NEGATIVE\n",
      "NEGATIVE\n",
      "NEGATIVE\n",
      "POSITIVE\n",
      "POSITIVE\n",
      "NEGATIVE\n",
      "NEGATIVE\n",
      "NEGATIVE\n",
      "POSITIVE\n",
      "NEGATIVE\n",
      "POSITIVE\n",
      "NEGATIVE\n"
     ]
    }
   ],
   "source": [
    "reddit_df['title_sentimental'] = reddit_df['title'].map(lambda x: get_sentimental(x))\n",
    "reddit_df"
   ]
  },
  {
   "cell_type": "code",
   "execution_count": null,
   "id": "1eb0083c",
   "metadata": {
    "colab": {
     "base_uri": "https://localhost:8080/",
     "height": 1000
    },
    "id": "1eb0083c",
    "outputId": "17ec82e5-13a3-40e8-9618-e5cd31c50ff1"
   },
   "outputs": [],
   "source": [
    "reddit_df['body_sentimental'] =reddit_df['body'].map(lambda x: get_sentimental(x))\n",
    "reddit_df"
   ]
  },
  {
   "cell_type": "code",
   "execution_count": null,
   "id": "ASTLk_D4Z0ej",
   "metadata": {
    "id": "ASTLk_D4Z0ej"
   },
   "outputs": [],
   "source": [
    "reddit_df.to_csv('base_with_sentiments.csv') "
   ]
  },
  {
   "cell_type": "code",
   "execution_count": 1,
   "id": "40492b00",
   "metadata": {
    "colab": {
     "base_uri": "https://localhost:8080/",
     "height": 228
    },
    "id": "40492b00",
    "outputId": "f57a8428-3f96-4e93-d27d-d6c048d47f7f"
   },
   "outputs": [
    {
     "ename": "NameError",
     "evalue": "ignored",
     "output_type": "error",
     "traceback": [
      "\u001b[0;31m---------------------------------------------------------------------------\u001b[0m",
      "\u001b[0;31mNameError\u001b[0m                                 Traceback (most recent call last)",
      "\u001b[0;32m<ipython-input-1-e11db6bfd8f5>\u001b[0m in \u001b[0;36m<module>\u001b[0;34m()\u001b[0m\n\u001b[1;32m      1\u001b[0m \u001b[0;31m# reddit to csv\u001b[0m\u001b[0;34m\u001b[0m\u001b[0;34m\u001b[0m\u001b[0;34m\u001b[0m\u001b[0m\n\u001b[1;32m      2\u001b[0m \u001b[0;32mfrom\u001b[0m \u001b[0mgoogle\u001b[0m\u001b[0;34m.\u001b[0m\u001b[0mcolab\u001b[0m \u001b[0;32mimport\u001b[0m \u001b[0mfiles\u001b[0m\u001b[0;34m\u001b[0m\u001b[0;34m\u001b[0m\u001b[0m\n\u001b[0;32m----> 3\u001b[0;31m \u001b[0mreddit_df\u001b[0m\u001b[0;34m.\u001b[0m\u001b[0mto_csv\u001b[0m\u001b[0;34m(\u001b[0m\u001b[0;34m'filename.csv'\u001b[0m\u001b[0;34m)\u001b[0m\u001b[0;34m\u001b[0m\u001b[0;34m\u001b[0m\u001b[0m\n\u001b[0m\u001b[1;32m      4\u001b[0m \u001b[0mfiles\u001b[0m\u001b[0;34m.\u001b[0m\u001b[0mdownload\u001b[0m\u001b[0;34m(\u001b[0m\u001b[0;34m'filename.csv'\u001b[0m\u001b[0;34m)\u001b[0m\u001b[0;34m\u001b[0m\u001b[0;34m\u001b[0m\u001b[0m\n",
      "\u001b[0;31mNameError\u001b[0m: name 'reddit_df' is not defined"
     ]
    }
   ],
   "source": [
    "\n"
   ]
  },
  {
   "cell_type": "code",
   "execution_count": 19,
   "id": "xbizY4CkWPsp",
   "metadata": {
    "id": "xbizY4CkWPsp"
   },
   "outputs": [],
   "source": []
  },
  {
   "cell_type": "code",
   "execution_count": 21,
   "id": "Jdvn2d7VWiz-",
   "metadata": {
    "id": "Jdvn2d7VWiz-"
   },
   "outputs": [],
   "source": []
  },
  {
   "cell_type": "code",
   "execution_count": null,
   "id": "09905237",
   "metadata": {
    "id": "09905237"
   },
   "outputs": [],
   "source": [
    "\n",
    "# reddit_df.drop(reddit_df[reddit_df['title_sentimental'] == \"Nan\"].index, inplace=True)"
   ]
  },
  {
   "cell_type": "code",
   "execution_count": null,
   "id": "4bfcb634",
   "metadata": {
    "id": "4bfcb634"
   },
   "outputs": [],
   "source": [
    "# classifier = pipeline('sentiment-analysis')\n",
    "\n",
    "# classifier(reddit_df.iloc[23594]['body'])"
   ]
  },
  {
   "cell_type": "code",
   "execution_count": null,
   "id": "979f1922",
   "metadata": {
    "id": "979f1922",
    "scrolled": true
   },
   "outputs": [],
   "source": [
    "# DO NOT DESTROY THIS CELLL\n",
    "\n",
    "# \" \".join(reddit_df.iloc[23594]['body'].split()[0:427])\n",
    "# \" \".join(reddit_df.iloc[23594]['body'].split()[427:-1])\n",
    "# print(classifier(\" \".join(reddit_df.iloc[23594]['body'].split()[0:427])))\n",
    "# print(classifier(\" \".join(reddit_df.iloc[23594]['body'].split()[-370:-1])))\n",
    "\n",
    "# \" \".join(reddit_df.iloc[23594]['body'].split()[-370:-1])\n"
   ]
  }
 ],
 "metadata": {
  "accelerator": "GPU",
  "colab": {
   "collapsed_sections": [],
   "name": "neto_notebook.ipynb",
   "provenance": []
  },
  "kernelspec": {
   "display_name": "Python 3",
   "language": "python",
   "name": "python3"
  },
  "language_info": {
   "codemirror_mode": {
    "name": "ipython",
    "version": 3
   },
   "file_extension": ".py",
   "mimetype": "text/x-python",
   "name": "python",
   "nbconvert_exporter": "python",
   "pygments_lexer": "ipython3",
   "version": "3.8.6"
  }
 },
 "nbformat": 4,
 "nbformat_minor": 5
}
